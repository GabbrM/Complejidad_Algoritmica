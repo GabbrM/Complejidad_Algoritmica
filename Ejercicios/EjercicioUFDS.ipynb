{
 "cells": [
  {
   "attachments": {},
   "cell_type": "markdown",
   "metadata": {},
   "source": [
    "Ejercicio 1.1\n",
    "Implemente las funciones Find y Union.\n",
    "Ejercicio 1.2\n",
    "Implemente un algoritmo para gestionar el grupo de amigos descrito en la primera parte."
   ]
  },
  {
   "cell_type": "code",
   "execution_count": 6,
   "metadata": {},
   "outputs": [],
   "source": [
    "class UFDS:\n",
    "    def __init__(self, n):\n",
    "        self.parent = list(range(n))\n",
    "        self.rank = [0] * n\n",
    "    #Encontrar el representante del conjunto conteniendo i \n",
    "    def find(self, i):\n",
    "        #Si i es su propio padre \n",
    "        if self.parent[i] == i:\n",
    "            #Entonces i es el representante del conjunto \n",
    "            return i\n",
    "        else:\n",
    "            #Sino i no es el representante de este conj un to.\n",
    "            #Por ende, se llama recursivamente Find sobre su padre \n",
    "            self.parent[i] = self.find(self.parent[i])\n",
    "            return self.parent[i]\n",
    "    #Unir los conjuntos que contienen i y j respectivamente \n",
    "    def union(self, i, j):\n",
    "        #Encontrar el representante del conjunto que contiene a i\n",
    "        irep = self.find(i)\n",
    "        #Hacer lo mismo para el conjunto que contiene j \n",
    "        jrep = self.find(j)\n",
    "\n",
    "        #Hacer que el padre del representante de i sea el representante de j.\n",
    "\n",
    "        if irep == jrep:\n",
    "            return\n",
    "        if self.rank[irep] < self.rank[jrep]:\n",
    "            self.parent[irep] = jrep\n",
    "        elif self.rank[irep] > self.rank[jrep]:\n",
    "            self.parent[jrep] = irep\n",
    "        else:\n",
    "            self.parent[jrep] = irep\n",
    "            self.rank[irep] += 1\n",
    "\n",
    "def manage_friends_group(relationships, queries):\n",
    "    individuals = set()\n",
    "    for relation in relationships:\n",
    "        individuals.add(relation[0])\n",
    "        individuals.add(relation[1])\n",
    "    \n",
    "    n = len(individuals)\n",
    "    ufds = UFDS(n)\n",
    "\n",
    "    for relation in relationships:\n",
    "        x, y = relation\n",
    "        ufds.union(x, y)\n",
    "\n",
    "    results = []\n",
    "    for query in queries:\n",
    "        x, y = query\n",
    "        if ufds.find(x) == ufds.find(y):\n",
    "            results.append(\"Sí son amigos\")\n",
    "        else:\n",
    "            results.append(\"No son amigos\")\n",
    "\n",
    "    return results\n"
   ]
  },
  {
   "cell_type": "code",
   "execution_count": 7,
   "metadata": {},
   "outputs": [
    {
     "name": "stdout",
     "output_type": "stream",
     "text": [
      "['Sí son amigos', 'No son amigos', 'No son amigos', 'Sí son amigos']\n"
     ]
    }
   ],
   "source": [
    "#Ejemplo\n",
    "\n",
    "relationships = [(0, 1), (1, 3), (2, 5), (2, 8), (3, 7), (4, 6), (4, 9)]\n",
    "#G1(0,1,3,7), G2(2,5,8) y G3(4,6,9)\n",
    "queries = [(0, 3), (1, 2), (5, 7), (6, 9)]\n",
    "#La primera consulta (0, 3) indica si la persona 0 y la persona 3 son amigos directos o indirectos,\n",
    "#si lo son, mostrará \"Sí son amigos\".\n",
    "results = manage_friends_group(relationships, queries)\n",
    "print(results) "
   ]
  }
 ],
 "metadata": {
  "kernelspec": {
   "display_name": "Python 3",
   "language": "python",
   "name": "python3"
  },
  "language_info": {
   "codemirror_mode": {
    "name": "ipython",
    "version": 3
   },
   "file_extension": ".py",
   "mimetype": "text/x-python",
   "name": "python",
   "nbconvert_exporter": "python",
   "pygments_lexer": "ipython3",
   "version": "3.11.1"
  },
  "orig_nbformat": 4
 },
 "nbformat": 4,
 "nbformat_minor": 2
}
