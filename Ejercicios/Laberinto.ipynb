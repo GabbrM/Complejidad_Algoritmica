{
 "cells": [
  {
   "attachments": {},
   "cell_type": "markdown",
   "metadata": {},
   "source": [
    "Un laberinto está constituido de un conjunto de salas conectadas por pasadizos. Este\n",
    "posee 2 salas especiales: la sala de entrada (partida) y la sala de llegada (salida)."
   ]
  },
  {
   "attachments": {},
   "cell_type": "markdown",
   "metadata": {},
   "source": [
    "Implemente un algoritmo de fuerza bruta que encuentre un camino para salir del laberinto.\n"
   ]
  },
  {
   "cell_type": "code",
   "execution_count": 14,
   "metadata": {},
   "outputs": [
    {
     "data": {
      "text/plain": [
       "['A', 'C', 'E', 'F']"
      ]
     },
     "execution_count": 14,
     "metadata": {},
     "output_type": "execute_result"
    }
   ],
   "source": [
    "def fuerza_bruta(laberinto, partida, llegada, ruta=[]):\n",
    "    ruta = ruta + [partida]\n",
    "    if partida == llegada:\n",
    "        return ruta\n",
    "    if partida not in laberinto:\n",
    "        return None\n",
    "    for sala in laberinto[partida]:\n",
    "        if sala not in ruta:\n",
    "            nueva_ruta = fuerza_bruta(laberinto, sala, llegada, ruta)\n",
    "            if nueva_ruta:\n",
    "                return nueva_ruta\n",
    "    return None\n",
    "\n",
    "laberinto = {\n",
    "\n",
    "    'A': ['B', 'C'],\n",
    "    'B': ['A', 'D'],\n",
    "    'C': ['A', 'E'],\n",
    "    'D': ['B'],\n",
    "    'E': ['C', 'F'],\n",
    "    'F': ['E']\n",
    "}\n",
    "\n",
    "partida = 'A'\n",
    "llegada = 'F'\n",
    "\n",
    "fuerza_bruta(laberinto, partida, llegada )"
   ]
  },
  {
   "attachments": {},
   "cell_type": "markdown",
   "metadata": {},
   "source": [
    "Implemente un algoritmo de recorrido en amplitud (BFS) que encuentre un camino para salir\n",
    "del laberinto."
   ]
  },
  {
   "cell_type": "code",
   "execution_count": 6,
   "metadata": {},
   "outputs": [
    {
     "data": {
      "text/plain": [
       "['A', 'C', 'E', 'F']"
      ]
     },
     "execution_count": 6,
     "metadata": {},
     "output_type": "execute_result"
    }
   ],
   "source": [
    "from collections import deque\n",
    "\n",
    "def bfs(laberinto, actual, objetivo):\n",
    "    visitados = set()\n",
    "    cola = deque([(actual, [])])\n",
    "    \n",
    "    while cola:\n",
    "        sala, camino = cola.popleft()\n",
    "        \n",
    "        # Si encontramos la sala de llegada, retornamos el camino\n",
    "        if sala == objetivo:\n",
    "            return camino + [sala]\n",
    "        \n",
    "        # Agregamos la sala actual a las salas visitadas\n",
    "        visitados.add(sala)\n",
    "\n",
    "        # Recorremos las salas conectadas a la actual\n",
    "        for vecino in laberinto[sala]:\n",
    "\n",
    "            # Si la sala ya fue visitada, continuamos con el siguiente vecino\n",
    "            if vecino in visitados:\n",
    "                continue\n",
    "\n",
    "            # Agregamos el vecino a la cola de exploración\n",
    "            cola.append((vecino, camino + [sala]))\n",
    "\n",
    "    # Si no encontramos un camino, retornamos None\n",
    "    return None\n",
    "\n",
    "\n",
    "laberinto = {\n",
    "    'A': ['B', 'C'],\n",
    "    'B': ['A', 'D'],\n",
    "    'C': ['A', 'E'],\n",
    "    'D': ['B'],\n",
    "    'E': ['C', 'F'],\n",
    "    'F': ['E']\n",
    "}\n",
    "\n",
    "partida = 'A'\n",
    "llegada = 'F'\n",
    "\n",
    "bfs(laberinto, partida,llegada )\n",
    "\n"
   ]
  },
  {
   "attachments": {},
   "cell_type": "markdown",
   "metadata": {},
   "source": [
    "Implemente un algoritmo d e recorrido en profundidad (DFS) que encuentre un camino\n",
    "para salir del laberinto."
   ]
  },
  {
   "cell_type": "code",
   "execution_count": 7,
   "metadata": {},
   "outputs": [
    {
     "data": {
      "text/plain": [
       "['A', 'C', 'E', 'F']"
      ]
     },
     "execution_count": 7,
     "metadata": {},
     "output_type": "execute_result"
    }
   ],
   "source": [
    "def dfs(laberinto, actual, objetivo, visitados=None, camino=None):\n",
    "\n",
    "    #Inicializamos los parámetros de la función en la primera llamada\n",
    "    if visitados is None:\n",
    "        visitados = set()\n",
    "    if camino is None:\n",
    "        camino = []\n",
    "        \n",
    "    #Si encontramos la sala de llegada, retornamos el camino\n",
    "    if actual == objetivo:\n",
    "        return camino + [actual]\n",
    "    \n",
    "    # Agregamos la sala actual a las salas visitadas\n",
    "    visitados.add(actual)\n",
    "    \n",
    "    #Recorremos las salas conectadas a la actual\n",
    "    for vecino in laberinto[actual]:\n",
    "\n",
    "        #Si el vecino ya fue visitado, continuamos con el siguiente\n",
    "        if vecino in visitados:\n",
    "            continue\n",
    "        #Recursivamente buscamos un camino desde el vecino a la sala de llegada\n",
    "        resultado = dfs(laberinto, vecino, objetivo, visitados, camino + [actual])\n",
    "        \n",
    "        #Si encontramos un camino, lo retornamos\n",
    "        if resultado is not None:\n",
    "            return resultado\n",
    "    \n",
    "    #Si no encontramos un camino, retornamos None\n",
    "    return None\n",
    "\n",
    "laberinto = {\n",
    "    'A': ['B', 'C'],\n",
    "    'B': ['A', 'D'],\n",
    "    'C': ['A', 'E'],\n",
    "    'D': ['B'],\n",
    "    'E': ['C', 'F'],\n",
    "    'F': ['E']\n",
    "}\n",
    "\n",
    "partida = 'A'\n",
    "llegada = 'F'\n",
    "\n",
    "dfs(laberinto, partida,llegada )"
   ]
  }
 ],
 "metadata": {
  "kernelspec": {
   "display_name": "Python 3",
   "language": "python",
   "name": "python3"
  },
  "language_info": {
   "codemirror_mode": {
    "name": "ipython",
    "version": 3
   },
   "file_extension": ".py",
   "mimetype": "text/x-python",
   "name": "python",
   "nbconvert_exporter": "python",
   "pygments_lexer": "ipython3",
   "version": "3.11.1"
  },
  "orig_nbformat": 4
 },
 "nbformat": 4,
 "nbformat_minor": 2
}
