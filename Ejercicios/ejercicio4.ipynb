{
 "cells": [
  {
   "cell_type": "code",
   "execution_count": 33,
   "metadata": {},
   "outputs": [],
   "source": [
    "import random\n",
    "from collections import deque"
   ]
  },
  {
   "attachments": {},
   "cell_type": "markdown",
   "metadata": {},
   "source": [
    "Escriba un algoritmo que genere una matriz aleatoria de adyacencia para G"
   ]
  },
  {
   "cell_type": "code",
   "execution_count": 30,
   "metadata": {},
   "outputs": [
    {
     "name": "stdout",
     "output_type": "stream",
     "text": [
      "Matriz de adyacencia:\n",
      "[0, 1, 1, 1, 1]\n",
      "[1, 0, 1, 1, 0]\n",
      "[1, 1, 0, 0, 0]\n",
      "[1, 1, 0, 0, 1]\n",
      "[1, 0, 0, 1, 0]\n",
      "\n"
     ]
    }
   ],
   "source": [
    "def generar_grafo_matriz(n, m):\n",
    "    M = [[0] * n for _ in range(n)]\n",
    "    aristas = set()\n",
    "    while len(aristas) < m:\n",
    "        v1 = random.randint(0, n-1)\n",
    "        v2 = random.randint(0, n-1)\n",
    "        if v1 != v2:\n",
    "            aristas.add((v1, v2))\n",
    "    for v1, v2 in aristas:\n",
    "        M[v1][v2] = 1\n",
    "        M[v2][v1] = 1\n",
    "    return M\n",
    "\n",
    "# Ejemplo\n",
    "grafo_matriz = generar_grafo_matriz(5, 11)\n",
    "print(\"Matriz de adyacencia:\")\n",
    "for fila in grafo_matriz:\n",
    "    print(fila)\n",
    "print()\n"
   ]
  },
  {
   "attachments": {},
   "cell_type": "markdown",
   "metadata": {},
   "source": [
    "Escriba un algoritmo que genere una lista aleatoria de adyacencia para G."
   ]
  },
  {
   "cell_type": "code",
   "execution_count": 32,
   "metadata": {},
   "outputs": [
    {
     "name": "stdout",
     "output_type": "stream",
     "text": [
      "Lista de adyacencia:\n",
      "Vértice 0: [4, 2, 3, 1]\n",
      "Vértice 1: [2, 4, 0]\n",
      "Vértice 2: [1, 0, 3]\n",
      "Vértice 3: [0, 2]\n",
      "Vértice 4: [0, 1]\n"
     ]
    }
   ],
   "source": [
    "def generar_grafo_lista(n, m):\n",
    "    L = [[] for _ in range(n)]\n",
    "    aristas = set()\n",
    "    while len(aristas) < m:\n",
    "        v1 = random.randint(0, n-1)\n",
    "        v2 = random.randint(0, n-1)\n",
    "        if v1 != v2:\n",
    "            aristas.add((v1, v2))\n",
    "    for v1, v2 in aristas:\n",
    "        L[v1].append(v2)\n",
    "        L[v2].append(v1)\n",
    "    return L\n",
    "\n",
    "# Ejemplo\n",
    "grafo_lista = generar_grafo_lista(5, 7)\n",
    "print(\"Lista de adyacencia:\")\n",
    "for i, adyacentes in enumerate(grafo_lista):\n",
    "    print(f\"Vértice {i}: {adyacentes}\")"
   ]
  },
  {
   "attachments": {},
   "cell_type": "markdown",
   "metadata": {},
   "source": [
    "Implemente un algoritmo que realice el recorrido en amplitud para un grafo."
   ]
  },
  {
   "cell_type": "code",
   "execution_count": 47,
   "metadata": {},
   "outputs": [
    {
     "name": "stdout",
     "output_type": "stream",
     "text": [
      "{0, 1, 2, 3, 4, 5}\n"
     ]
    }
   ],
   "source": [
    "def bfs(grafo, nodo_inicio):\n",
    "    # Inicializamos las variables necesarias\n",
    "    visitados = set()\n",
    "    cola = deque([nodo_inicio])\n",
    "    \n",
    "    # Comenzamos el recorrido en amplitud\n",
    "    while cola:\n",
    "        # Sacamos el primer nodo de la cola\n",
    "        nodo_actual = cola.popleft()\n",
    "        visitados.add(nodo_actual)\n",
    "        \n",
    "        # Recorremos los vecinos del nodo actual\n",
    "        for vecino in grafo[nodo_actual]:\n",
    "            if vecino not in visitados:\n",
    "                # Agregamos el vecino a la cola\n",
    "                cola.append(vecino)\n",
    "    \n",
    "    return visitados\n",
    "\n",
    "grafo = {\n",
    "    0: [1, 2],\n",
    "    1: [0, 2, 3],\n",
    "    2: [0, 1, 4],\n",
    "    3: [1, 4],\n",
    "    4: [2, 3, 5],\n",
    "    5: [4]\n",
    "}\n",
    "\n",
    "nodo_inicio = 0\n",
    "visitados = bfs(grafo, nodo_inicio)\n",
    "print(visitados)\n"
   ]
  }
 ],
 "metadata": {
  "kernelspec": {
   "display_name": "Python 3",
   "language": "python",
   "name": "python3"
  },
  "language_info": {
   "codemirror_mode": {
    "name": "ipython",
    "version": 3
   },
   "file_extension": ".py",
   "mimetype": "text/x-python",
   "name": "python",
   "nbconvert_exporter": "python",
   "pygments_lexer": "ipython3",
   "version": "3.11.1"
  },
  "orig_nbformat": 4
 },
 "nbformat": 4,
 "nbformat_minor": 2
}
